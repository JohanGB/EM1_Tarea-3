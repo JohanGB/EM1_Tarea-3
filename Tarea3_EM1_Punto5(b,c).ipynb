{
 "cells": [
  {
   "cell_type": "markdown",
   "metadata": {},
   "source": [
    "# B)"
   ]
  },
  {
   "cell_type": "markdown",
   "metadata": {},
   "source": [
    "Para resolver este problema aplicando el método de diferencias finitas. Primero, se debe discretizar el cuadrado en una grilla de celdas cuadradas de 0.1 de lado. Luego, se aproximar el potencial eléctrico en cada punto de la grilla utilizando la ecuación de Laplace:\n",
    "\n",
    "$$\\frac{\\partial^2 V}{\\partial x^2} + \\frac{\\partial^2 V}{\\partial y^2} = 0$$\n",
    "\n",
    "Donde $V$ es el potencial eléctrico y $x$ e $y$ son las coordenadas espaciales. Aquí se pueden aproximar las derivadas parciales utilizando diferencias finitas centradas:\n",
    "\n",
    "$$\\frac{\\partial^2 V}{\\partial x^2} \\approx \\frac{V_{i+1,j} - 2V_{i,j} + V_{i-1,j}}{(\\Delta x)^2}$$\n",
    "\n",
    "$$\\frac{\\partial^2 V}{\\partial y^2} \\approx \\frac{V_{i,j+1} - 2V_{i,j} + V_{i,j-1}}{(\\Delta y)^2}$$\n",
    "\n",
    "Donde $V_{i,j}$ es el valor del potencial eléctrico en la celda $(i,j)$ de la grilla, $\\Delta x = \\Delta y = 0.1$ son los tamaños de las celdas.\n",
    "\n",
    "Luego, se reorganiza la ecuación de Laplace para obtener una expresión para $V_{i,j}$ en términos de sus vecinos:\n",
    "\n",
    "$$V_{i,j} = \\frac{1}{4}(V_{i+1,j} + V_{i-1,j} + V_{i,j+1} + V_{i,j-1})$$\n",
    "\n",
    "Esta ecuación permite calcular el valor del potencial eléctrico en cada punto de la grilla a partir de los valores en sus vecinos.\n",
    "Las siguientes condiciones de contorno serían las siguientes:\n",
    "\n",
    "- Los lados aterrizados tienen un potencial eléctrico constante de 0.\n",
    "- El lado superior tiene un potencial eléctrico constante de 5V.\n",
    "\n",
    "Ahora se inicializan los valores del potencial eléctrico en la grilla con estos valores y se aplica la ecuación anterior para actualizar iterativamente los valores hasta que converjan a una solución estable con precisión de \\delta 0.01$ o 0.00001, lo cual implica 10000 iteraciones de corrección."
   ]
  },
  {
   "cell_type": "code",
   "execution_count": 3,
   "metadata": {},
   "outputs": [
    {
     "data": {
      "image/png": "[encoded data removed]",
      "text/plain": [
       "<Figure size 432x288 with 2 Axes>"
      ]
     },
     "metadata": {
      "needs_background": "light"
     },
     "output_type": "display_data"
    }
   ],
   "source": [
    "import numpy as np\n",
    "import matplotlib.pyplot as plt\n",
    "\n",
    "# Definir tamaño y espaciado de la grilla\n",
    "L = 10\n",
    "dx = dy = 0.1\n",
    "nx, ny = int(L/dx), int(L/dy)\n",
    "\n",
    "# Inicializar el potential con las condiciones de frontera\n",
    "V = np.zeros((nx, ny))\n",
    "V[0,:] = 5\n",
    "V[:,0] = V[:,-1] = 0\n",
    "\n",
    "# Itera hasta converger\n",
    "err = 1\n",
    "while err > 1e-4:\n",
    "    V_old = V.copy()\n",
    "    for i in range(1, nx-1):\n",
    "        for j in range(1, ny-1):\n",
    "            V[i,j] = 0.25*(V[i+1,j] + V[i-1,j] + V[i,j+1] + V[i,j-1])\n",
    "    err = np.max(np.abs(V - V_old))\n",
    "\n",
    "# Gráfica\n",
    "x = np.linspace(0, L, nx)\n",
    "y = np.linspace(L, 0, ny)\n",
    "X, Y = np.meshgrid(x, y)\n",
    "plt.contourf(X, Y, V)\n",
    "plt.colorbar()\n",
    "plt.xlabel('x')\n",
    "plt.ylabel('y')\n",
    "plt.title('Potencial eléctrico dentro del cuadrado')\n",
    "plt.show()\n"
   ]
  },
  {
   "cell_type": "markdown",
   "metadata": {},
   "source": [
    "Este código define una grilla con lados de longitud 10 y una separación de celda de 0.1. Luego inicializa los valores del potencial eléctrico en la grilla con las condiciones de contorno especificadas y aplica la ecuación anterior iterativamente hasta que converge a una solución estable. Finalmente, imprime la gráfica con diferentes colores del potencial eléctrico dentro del cuadrado en función de las coordenadas x & y."
   ]
  },
  {
   "cell_type": "markdown",
   "metadata": {},
   "source": [
    "# C)"
   ]
  },
  {
   "cell_type": "code",
   "execution_count": 4,
   "metadata": {},
   "outputs": [],
   "source": [
    "import numpy as np\n",
    "import matplotlib.pyplot as plt\n",
    "\n",
    "# Define la grilla\n",
    "nx, ny = 101, 101\n",
    "x = np.linspace(0, 10, nx)\n",
    "y = np.linspace(10, 0, ny)\n",
    "X, Y = np.meshgrid(x, y)"
   ]
  },
  {
   "cell_type": "code",
   "execution_count": 5,
   "metadata": {},
   "outputs": [
    {
     "data": {
      "image/png": "[encoded data removed]",
      "text/plain": [
       "<Figure size 900x360 with 2 Axes>"
      ]
     },
     "metadata": {
      "needs_background": "light"
     },
     "output_type": "display_data"
    }
   ],
   "source": [
    "\n",
    "# Plantea las condiciones de frontera\n",
    "Vdf = np.zeros((ny, nx))\n",
    "Vdf[0, :] = 5\n",
    "Vdf[:, 0] = Vdf[:, -1] = Vdf[-1, :] = 0\n",
    "\n",
    "# Calcula el potencial usando el método de diferencias finitas\n",
    "for i in range(10000):\n",
    "    Vdf[1:-1, 1:-1] = (Vdf[2:, 1:-1] + Vdf[:-2, 1:-1] + Vdf[1:-1, 2:] + Vdf[1:-1, :-2])/4\n",
    "\n",
    "# Calcula Vteo en cada punto de la grilla:\n",
    "Vteo = np.zeros((ny, nx))\n",
    "for i in range(nx):\n",
    "    for j in range(ny):\n",
    "        for n in range(1, 100, 2):\n",
    "            Vteo[j,i] += (20/np.pi)*(1/n)*(np.sin(n*np.pi*X[j,i]/10)*np.sinh(n*np.pi*Y[j,i]/10))/np.sinh(n*np.pi)\n",
    "\n",
    "# Grafica los resultados\n",
    "fig, axs = plt.subplots(1, 2)\n",
    "fig.set_size_inches(12.5, 5)\n",
    "\n",
    "axs[0].contourf(X, Y, Vdf)\n",
    "axs[0].set_xlabel('x')\n",
    "axs[0].set_ylabel('y')\n",
    "axs[0].set_title('Potencial eléctrico dentro del cuadrado')\n",
    "\n",
    "axs[1].contourf(X, Y, Vteo)\n",
    "axs[1].set_xlabel('x')\n",
    "axs[1].set_ylabel('y')\n",
    "axs[1].set_title('Vteo en cada punto de la grilla')\n",
    "\n",
    "plt.show()\n"
   ]
  },
  {
   "cell_type": "markdown",
   "metadata": {},
   "source": [
    "# La gráfica de la matriz diferencia entre el potencial por método de diferencias finitas y el potencial teórico es:"
   ]
  },
  {
   "cell_type": "code",
   "execution_count": 6,
   "metadata": {},
   "outputs": [
    {
     "data": {
      "image/png": "[encoded data removed]",
      "text/plain": [
       "<Figure size 432x288 with 2 Axes>"
      ]
     },
     "metadata": {
      "needs_background": "light"
     },
     "output_type": "display_data"
    }
   ],
   "source": [
    "\n",
    "Vres = Vdf - Vteo\n",
    "plt.contourf(X, Y, Vres)\n",
    "plt.colorbar()\n",
    "plt.xlabel('x')\n",
    "plt.ylabel('y')\n",
    "plt.title('Diferencia entre potencial por método diferencias finitas y teórico')\n",
    "plt.show()"
   ]
  },
  {
   "cell_type": "markdown",
   "metadata": {},
   "source": [
    "#"
   ]
  },
  {
   "cell_type": "code",
   "execution_count": 8,
   "metadata": {},
   "outputs": [
    {
     "name": "stdout",
     "output_type": "stream",
     "text": [
      "La diferencia porcentual máxima es 45.67% en la ubicación:\n",
      "(9.90, 0.10)\n"
     ]
    },
    {
     "data": {
      "image/png": "[encoded data removed]",
      "text/plain": [
       "<Figure size 432x288 with 2 Axes>"
      ]
     },
     "metadata": {
      "needs_background": "light"
     },
     "output_type": "display_data"
    }
   ],
   "source": [
    "import numpy as np\n",
    "\n",
    "# Define the grid\n",
    "nx, ny = 101, 101\n",
    "x = np.linspace(0, 10, nx)\n",
    "y = np.linspace(0, 10, ny)\n",
    "X, Y = np.meshgrid(x, y)\n",
    "\n",
    "# Set the boundary conditions\n",
    "Vdf = np.zeros((ny, nx))\n",
    "Vdf[0, :] = 5\n",
    "Vdf[:, 0] = Vdf[:, -1] = Vdf[-1, :] = 0\n",
    "\n",
    "# Calculate the potential using the finite difference method\n",
    "for i in range(10000):\n",
    "    Vdf[1:-1, 1:-1] = (Vdf[2:, 1:-1] + Vdf[:-2, 1:-1] + Vdf[1:-1, 2:] + Vdf[1:-1, :-2])/4\n",
    "\n",
    "# Calculate Vteo at each point\n",
    "Vteo = np.zeros((ny, nx))\n",
    "for i in range(nx):\n",
    "    for j in range(ny):\n",
    "        for n in range(1, 100, 2):\n",
    "            Vteo[i,j] += (20/np.pi)*(1/n)*(np.sin(n*np.pi*X[i,j]/10)*np.sinh(n*np.pi*Y[i,j]/10))/np.sinh(n*np.pi)\n",
    "\n",
    "# Calculate the percentage difference between the two matrices\n",
    "diff_percent = np.zeros((ny,nx))\n",
    "for i in range(nx):\n",
    "    for j in range(ny):\n",
    "        if Vteo[j,i] != 0:\n",
    "            diff_percent[i,j] += (abs(Vdf[i,j] - Vteo[i,j])/Vteo[i,j])/100\n",
    "        else:\n",
    "            diff_percent[j,i] = 0\n",
    "\n",
    "# Encuentra la diferencia porcential máxima y su respectiva ubicación, sí hay más de una con el mismo valor devuelve la primera. \n",
    "# Notar que en caso de haber más, estas se ubican simétricamente. \n",
    "max_diff_percent = np.max(diff_percent)\n",
    "max_diff_locations = np.argwhere(diff_percent == max_diff_percent)\n",
    "\n",
    "print(f\"La diferencia porcentual máxima es {max_diff_percent:.2f}% en la ubicación:\")\n",
    "for loc in max_diff_locations:\n",
    "    print(f\"({x[loc[1]]:.2f}, {y[loc[0]]:.2f})\")\n",
    "y = np.linspace(10, 0, ny)\n",
    "X, Y = np.meshgrid(x, y)\n",
    "plt.contourf(X, Y, diff_percent)\n",
    "plt.colorbar()\n",
    "plt.xlabel('x')\n",
    "plt.ylabel('y')\n",
    "plt.title('Gráfica matriz de diferencia porcentual')\n",
    "plt.show()"
   ]
  }
 ],
 "metadata": {
  "kernelspec": {
   "display_name": "base",
   "language": "python",
   "name": "python3"
  },
  "language_info": {
   "codemirror_mode": {
    "name": "ipython",
    "version": 3
   },
   "file_extension": ".py",
   "mimetype": "text/x-python",
   "name": "python",
   "nbconvert_exporter": "python",
   "pygments_lexer": "ipython3",
   "version": "3.9.7"
  },
  "orig_nbformat": 4
 },
 "nbformat": 4,
 "nbformat_minor": 2
}
